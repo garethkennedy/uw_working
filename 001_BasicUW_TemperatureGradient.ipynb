{
 "cells": [
  {
   "cell_type": "markdown",
   "metadata": {},
   "source": [
    "Basic underworld tutorial\n",
    "======\n",
    "\n",
    "Temperature gradient as steady state solution\n",
    "----\n",
    "\n",
    "This notebook is intended to give a quick overview of how to run underworld using ipython notebooks. It is the beginning of a series of tutorials which will increase in functionality. By the end of these tutorials the user should be able to tackle the more complex notebooks available in the **publications** directory. For more details on individual concepts the user is directed to notebooks in the **userguides** directory.\n",
    "\n",
    "**This lesson introduces the concepts of:**\n",
    "1. basics of underworld\n",
    "2. setting up meshes (grids)\n",
    "3. setting initial conditions\n",
    "4. setting boundary conditions\n",
    "5. solving Stokes system\n",
    "6. plotting physical quantities on meshes\n",
    "7. saving underworld variables to file\n",
    "\n"
   ]
  },
  {
   "cell_type": "markdown",
   "metadata": {},
   "source": [
    "Load python functions needed for underworld."
   ]
  },
  {
   "cell_type": "code",
   "execution_count": 1,
   "metadata": {
    "collapsed": false
   },
   "outputs": [],
   "source": [
    "import underworld as uw\n",
    "import math\n",
    "from underworld import function as fn\n",
    "import glucifer.pylab as plt\n",
    "import numpy as np"
   ]
  },
  {
   "cell_type": "markdown",
   "metadata": {},
   "source": [
    "Setup parameters\n",
    "-----\n",
    "\n",
    "Set physical values for test. Particularly the number of dimensions for the simulation (*dim*), simulation resolution (*res*) and simulation box height and lengths."
   ]
  },
  {
   "cell_type": "code",
   "execution_count": 2,
   "metadata": {
    "collapsed": false
   },
   "outputs": [],
   "source": [
    "dim = 2\n",
    "Box_Height = 1.0\n",
    "Box_Length = 1.0\n",
    "Temp_Min = 0.0\n",
    "Temp_Max = 1.0\n",
    "# set the resolution\n",
    "res = 4"
   ]
  },
  {
   "cell_type": "markdown",
   "metadata": {},
   "source": [
    "Create mesh and finite element variables\n",
    "------\n",
    "\n",
    "Create mesh objects. These store the indices and spatial coordiates of the grid points on the mesh."
   ]
  },
  {
   "cell_type": "code",
   "execution_count": 3,
   "metadata": {
    "collapsed": false
   },
   "outputs": [],
   "source": [
    "elementMesh = uw.mesh.FeMesh_Cartesian( elementType=(\"Q1/dQ0\"), \n",
    "                                         elementRes=(res,res), \n",
    "                                           minCoord=(0.,0.), \n",
    "                                           maxCoord=(Box_Length, Box_Height))\n",
    "linearMesh   = elementMesh\n",
    "constantMesh = elementMesh.subMesh "
   ]
  },
  {
   "cell_type": "markdown",
   "metadata": {},
   "source": [
    "** More information ** on meshes can be found in the **userguide** directory."
   ]
  },
  {
   "cell_type": "markdown",
   "metadata": {},
   "source": [
    "Create Finite Element (FE) variables for the velocity, pressure and temperature fields. The last two of these are scalar fields needing only one value at each mesh point, while the velocity field contains a vector of *dim* dimensions at each mesh point."
   ]
  },
  {
   "cell_type": "code",
   "execution_count": 4,
   "metadata": {
    "collapsed": false
   },
   "outputs": [],
   "source": [
    "velocityField    = uw.fevariable.FeVariable( feMesh=linearMesh,   nodeDofCount=dim )\n",
    "pressureField    = uw.fevariable.FeVariable( feMesh=constantMesh, nodeDofCount=1 )\n",
    "temperatureField = uw.fevariable.FeVariable( feMesh=linearMesh,   nodeDofCount=1 )"
   ]
  },
  {
   "cell_type": "markdown",
   "metadata": {},
   "source": [
    "Set initial conditions and boundary conditions\n",
    "----------"
   ]
  },
  {
   "cell_type": "markdown",
   "metadata": {},
   "source": [
    "**Initial conditions**\n",
    "\n",
    "Start with a the temperature field equal to zero everywhere except on the boundaries (below)."
   ]
  },
  {
   "cell_type": "code",
   "execution_count": 5,
   "metadata": {
    "collapsed": false
   },
   "outputs": [],
   "source": [
    "velocityField.data[:] = [0.,0.]\n",
    "pressureField.data[:] = 0.\n",
    "temperatureField.data[:] = 0."
   ]
  },
  {
   "cell_type": "markdown",
   "metadata": {},
   "source": [
    "**Boundary conditions**\n",
    "\n",
    "Underworld includes functions for listing special sets of vertices on the mesh. To see the list of them run the following command"
   ]
  },
  {
   "cell_type": "code",
   "execution_count": 6,
   "metadata": {
    "collapsed": false
   },
   "outputs": [
    {
     "data": {
      "text/plain": [
       "['MaxI_VertexSet',\n",
       " 'MinI_VertexSet',\n",
       " 'AllWalls',\n",
       " 'MinJ_VertexSet',\n",
       " 'MaxJ_VertexSet',\n",
       " 'Empty']"
      ]
     },
     "execution_count": 6,
     "metadata": {},
     "output_type": "execute_result"
    }
   ],
   "source": [
    "linearMesh.specialSets.keys()"
   ]
  },
  {
   "cell_type": "markdown",
   "metadata": {},
   "source": [
    "Here we set the temperature at the bottom of the simulation box to have the maximum temperature and the top of the box to have the minimum temperature.\n",
    "\n",
    "The vertices on the mesh for the bottom of the simulation box are contained in \"MinJ_VertexSet\", those for the top are in \"MaxJ_VertexSet\"."
   ]
  },
  {
   "cell_type": "code",
   "execution_count": 7,
   "metadata": {
    "collapsed": false
   },
   "outputs": [],
   "source": [
    "for index in linearMesh.specialSets[\"MinJ_VertexSet\"]:\n",
    "    temperatureField.data[index] = Temp_Max\n",
    "for index in linearMesh.specialSets[\"MaxJ_VertexSet\"]:\n",
    "    temperatureField.data[index] = Temp_Min"
   ]
  },
  {
   "cell_type": "markdown",
   "metadata": {},
   "source": [
    "**Conditions on the boundaries**\n",
    "\n",
    "Construct sets for the both horizontal and vertical walls. Combine the sets of vertices to make the I (left and right side walls) and J (top and bottom walls) sets. Note that both sets contain the corners of the box."
   ]
  },
  {
   "cell_type": "code",
   "execution_count": 8,
   "metadata": {
    "collapsed": false
   },
   "outputs": [],
   "source": [
    "IWalls = linearMesh.specialSets[\"MinI_VertexSet\"] + linearMesh.specialSets[\"MaxI_VertexSet\"]\n",
    "JWalls = linearMesh.specialSets[\"MinJ_VertexSet\"] + linearMesh.specialSets[\"MaxJ_VertexSet\"]"
   ]
  },
  {
   "cell_type": "markdown",
   "metadata": {},
   "source": [
    "**Use sets to specify the type of boundary conditions**\n",
    "\n",
    "**Underworld** needs to know what to do on the boundaries of the simulation box. The defaults boundary conditions on the variable itself; also called free-slip or Dirichlet boundary conditions. More information on Dirichlet boundary conditions can be found [here](https://en.wikipedia.org/wiki/Dirichlet_boundary_condition), briefly these are any conditions of the form\n",
    "\\\\[\n",
    "y(a) = \\alpha \\quad \\quad y(b) = \\beta\n",
    "\\\\]\n",
    "which are set below for the velocity vector field and temperature scalar fields along the boundaries (IWalls, JWalls). The values for the boundaries are what ever is in the variables before this step, in this case the initial conditions set above. For example a set of tuples containing $v_x$ and $v_y$ for the velocity field will be preserved for all time on the boundaries (IWalls, JWalls) by the first command below. While the temperature is only held constant on the top and bottom boundaries (JWalls) by the second command below.\n",
    "\n",
    "Note that through this function, we are flagging to the system that these vertices are to be considered as boundary conditions."
   ]
  },
  {
   "cell_type": "code",
   "execution_count": 9,
   "metadata": {
    "collapsed": true
   },
   "outputs": [],
   "source": [
    "freeslipBC = uw.conditions.DirichletCondition(     variable=velocityField, \n",
    "                                              nodeIndexSets=(IWalls,JWalls) )\n",
    "tempBC = uw.conditions.DirichletCondition(     variable=temperatureField, \n",
    "                                              nodeIndexSets=(JWalls,) )"
   ]
  },
  {
   "cell_type": "markdown",
   "metadata": {},
   "source": [
    "**Plot initial conditions for temperature**\n",
    "\n",
    "The following cell uses the built in plotter (**gLucifer**) to plot the temperature field (initial conditions) and overlay it with the mesh."
   ]
  },
  {
   "cell_type": "code",
   "execution_count": 10,
   "metadata": {
    "collapsed": false,
    "scrolled": false
   },
   "outputs": [
    {
     "data": {
      "image/png": "[encoded data removed]",
      "text/plain": [
       "<IPython.core.display.Image object>"
      ]
     },
     "execution_count": 10,
     "metadata": {},
     "output_type": "execute_result"
    }
   ],
   "source": [
    "figtemp = plt.Figure()\n",
    "figtemp.Surface(temperatureField, linearMesh, colours=\"blue white red\")\n",
    "figtemp.Mesh(linearMesh, colourBar = False)\n",
    "figtemp.show()"
   ]
  },
  {
   "cell_type": "markdown",
   "metadata": {},
   "source": [
    "Set up material parameters and functions\n",
    "-----\n",
    "\n",
    "Here the functions for density, viscosity etc. are set. These functions and/or values are preserved for the entire simulation time. \n",
    "\n",
    "Notes:\n",
    "1. temperature must be in the range 0-1 for use with the denisity function defined using the Rayleigh number.\n",
    "2. $\\hat{z}$ (*z_hat*) denotes the positive vertical direction. \n",
    "3. The density ($\\rho$) should be negatively proportional to the temperature field so that high temperature has low density.\n",
    "4. Both $\\hat{z}$ and $\\rho$ are combined to define the buoyancy function which is used to set up the Stokes system."
   ]
  },
  {
   "cell_type": "code",
   "execution_count": 11,
   "metadata": {
    "collapsed": false
   },
   "outputs": [],
   "source": [
    "# this can be replaced by a function\n",
    "viscosityFn = fn.misc.constant(1.0)\n",
    "\n",
    "# Rayleigh number\n",
    "Ra = 1.0e6\n",
    "\n",
    "# since Ra is a constant and temperature is a FEvariable, then densityFn will also be an FEvariable.\n",
    "densityFn = -Ra * temperatureField\n",
    "\n",
    "# define our vertical unit vector using a python tuple (this will be automatically converted to a function)\n",
    "z_hat = ( 0.0, 1.0 )\n",
    "\n",
    "# now create a buoyancy force vector using the density (FEvariable) and the vertical unit vector. \n",
    "# The result from which will also be a FEvariable.\n",
    "buoyancyFn = densityFn * z_hat\n"
   ]
  },
  {
   "cell_type": "markdown",
   "metadata": {},
   "source": [
    "In the cell above the *densityFn* and the *buoyancyFn* are written as functions of existing FE variables. This means that they will keep this functionality for the entire simulation. So the density will always be subject to this function.\n",
    "\n",
    "By setting the system up in this way we only need to set these functions once at the beginning and not each timestep."
   ]
  },
  {
   "cell_type": "markdown",
   "metadata": {},
   "source": [
    "System setup\n",
    "-----\n",
    "\n",
    "**Setup a Stokes system**\n",
    "\n",
    "Firstly, the velocity field, pressure, viscosity and buoyancy forces need to be passed to the Stokes system function. Along with the conditions affecting these variables - in this case the boundary conditions for the velocity field.\n",
    "\n",
    "This system is solved after each time step using the .solve function (see main loop below)."
   ]
  },
  {
   "cell_type": "code",
   "execution_count": 12,
   "metadata": {
    "collapsed": false
   },
   "outputs": [],
   "source": [
    "stokesPIC = uw.systems.Stokes(velocityField=velocityField, \n",
    "                              pressureField=pressureField,\n",
    "                              conditions=[freeslipBC,],\n",
    "                              viscosityFn=viscosityFn, \n",
    "                              bodyForceFn=buoyancyFn )\n"
   ]
  },
  {
   "cell_type": "markdown",
   "metadata": {},
   "source": [
    "**Create an advective-diffusive system**\n",
    "\n",
    "\n",
    "Setup the system in underworld by flagging the temperature and velocity field variables as well as the temperature boundary conditions."
   ]
  },
  {
   "cell_type": "code",
   "execution_count": 13,
   "metadata": {
    "collapsed": false
   },
   "outputs": [],
   "source": [
    "advDiff = uw.systems.AdvectionDiffusion( temperatureField, velocityField, diffusivity=1., conditions=[tempBC,], )"
   ]
  },
  {
   "cell_type": "markdown",
   "metadata": {},
   "source": [
    "Main time loop\n",
    "-----\n",
    "\n",
    "The main time stepping loop begins here. Before this the time and timestep are initialised to zero. For this particular example the simulation is run for long enough for the temperature field to come into steady-state with the top and bottom boundary conditions\n"
   ]
  },
  {
   "cell_type": "code",
   "execution_count": 14,
   "metadata": {
    "collapsed": false
   },
   "outputs": [],
   "source": [
    "time = 0.\n",
    "steps = 0\n",
    "steps_end = 1000\n",
    "while steps < steps_end:\n",
    "    # Get solution for initial configuration\n",
    "    stokesPIC.solve()\n",
    "    # Retrieve the maximum possible timestep for the AD system.\n",
    "    dt = advDiff.get_max_dt()\n",
    "    if steps == 0:\n",
    "        dt = 0.\n",
    "    # Advect using this timestep size   \n",
    "    advDiff.integrate(dt)\n",
    "    steps += 1"
   ]
  },
  {
   "cell_type": "markdown",
   "metadata": {},
   "source": [
    "**Plot final temperature field**\n",
    "\n",
    "The temperature field should now be in steady state. To check this we re-run the plotter used above."
   ]
  },
  {
   "cell_type": "code",
   "execution_count": 15,
   "metadata": {
    "collapsed": false
   },
   "outputs": [
    {
     "data": {
      "image/png": "[encoded data removed]",
      "text/plain": [
       "<IPython.core.display.Image object>"
      ]
     },
     "execution_count": 15,
     "metadata": {},
     "output_type": "execute_result"
    }
   ],
   "source": [
    "figtemp = plt.Figure()\n",
    "figtemp.Surface(temperatureField, linearMesh, colours=\"blue white red\")\n",
    "figtemp.Mesh(linearMesh, colourBar = False)\n",
    "figtemp.show()"
   ]
  },
  {
   "cell_type": "markdown",
   "metadata": {},
   "source": [
    "The temperature field should be in steady-state, i.e. a smooth gradient from the top minimum temperature to the bottom maximum temperature."
   ]
  }
 ],
 "metadata": {
  "kernelspec": {
   "display_name": "Python 2",
   "language": "python",
   "name": "python2"
  },
  "language_info": {
   "codemirror_mode": {
    "name": "ipython",
    "version": 2
   },
   "file_extension": ".py",
   "mimetype": "text/x-python",
   "name": "python",
   "nbconvert_exporter": "python",
   "pygments_lexer": "ipython2",
   "version": "2.7.6"
  }
 },
 "nbformat": 4,
 "nbformat_minor": 0
}
