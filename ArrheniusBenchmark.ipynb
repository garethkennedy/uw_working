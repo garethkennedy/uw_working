{
 "cells": [
  {
   "cell_type": "markdown",
   "metadata": {},
   "source": [
    "Stagnant lid convection model\n",
    "=======\n",
    "\n",
    "Arrhenius benchmark from Moresi and Solomatov 1998\n",
    "------\n",
    "\n",
    "This example introduces the concepts:\n",
    "1. changing rheologies, specifically temperature dependent viscosity function\n",
    "2. Stokes solver options\n",
    "3. saving and loading FE variables\n",
    "\n",
    "References\n",
    "-----\n",
    "\n",
    "1. Louis Moresi and Viatcheslav Solomatov, Mantle convection with a brittle lithosphere: thoughts on the global tectonic styles of the Earth and Venus. Geophys. J. Int. (1998) 133 (3): 669-682.  \n",
    "http://gji.oxfordjournals.org/content/133/3/669.short\n"
   ]
  },
  {
   "cell_type": "markdown",
   "metadata": {},
   "source": [
    "Load python functions needed for underworld."
   ]
  },
  {
   "cell_type": "code",
   "execution_count": 1,
   "metadata": {
    "collapsed": false
   },
   "outputs": [],
   "source": [
    "import underworld as uw\n",
    "import math\n",
    "from underworld import function as fn\n",
    "import glucifer.pylab as plt\n",
    "import time\n",
    "import numpy as np\n",
    "import matplotlib.pyplot as pyplot\n",
    "%matplotlib inline"
   ]
  },
  {
   "cell_type": "markdown",
   "metadata": {},
   "source": [
    "Set physical values for test case, specifically the simulation resolution (*res*) and number of dimensions (*dim*). "
   ]
  },
  {
   "cell_type": "code",
   "execution_count": 2,
   "metadata": {
    "collapsed": true
   },
   "outputs": [],
   "source": [
    "dim = 2\n",
    "Box_Length = 1.0\n",
    "Box_Height = 1.0\n",
    "DeltaTemp = 1.0\n",
    "Temp_Min = 0.0\n",
    "Temp_Max = DeltaTemp + Temp_Min\n",
    "BoxSize = (Box_Length, Box_Height)\n",
    "# set the resolution\n",
    "res = 32\n",
    "# Set the Rayleigh number\n",
    "Ra=1.e6"
   ]
  },
  {
   "cell_type": "markdown",
   "metadata": {},
   "source": [
    "Set input and output file directory paths"
   ]
  },
  {
   "cell_type": "code",
   "execution_count": 3,
   "metadata": {
    "collapsed": true
   },
   "outputs": [],
   "source": [
    "inputPath = 'ArrInput/'\n",
    "outputPath = 'ArrOutput/'"
   ]
  },
  {
   "cell_type": "markdown",
   "metadata": {},
   "source": [
    "Create mesh objects. These store the indices and spatial coordiates of the grid points on the mesh."
   ]
  },
  {
   "cell_type": "code",
   "execution_count": 4,
   "metadata": {
    "collapsed": false
   },
   "outputs": [],
   "source": [
    "elementMesh = uw.mesh.FeMesh_Cartesian( elementType=(\"Q2/dPc1\"), \n",
    "                                         elementRes=(res,res), \n",
    "                                           minCoord=(0.,0.), \n",
    "                                           maxCoord=BoxSize  )\n",
    "linearMesh   = elementMesh\n",
    "constantMesh = elementMesh.subMesh "
   ]
  },
  {
   "cell_type": "markdown",
   "metadata": {},
   "source": [
    "Create Finite Element (FE) variables for the velocity, pressure and temperature fields. The velocity field contains a vector of *dim* dimensions at each mesh point, while the pressure and temperature fields need only a single value as they are scalar fields."
   ]
  },
  {
   "cell_type": "code",
   "execution_count": 5,
   "metadata": {
    "collapsed": false
   },
   "outputs": [],
   "source": [
    "velocityField    = uw.fevariable.FeVariable( feMesh=linearMesh,   nodeDofCount=dim )\n",
    "pressureField    = uw.fevariable.FeVariable( feMesh=constantMesh, nodeDofCount=1 )\n",
    "temperatureField = uw.fevariable.FeVariable( feMesh=linearMesh,   nodeDofCount=1 )"
   ]
  },
  {
   "cell_type": "markdown",
   "metadata": {},
   "source": [
    "Set initial conditions and values for boundary conditions\n",
    "====="
   ]
  },
  {
   "cell_type": "code",
   "execution_count": 6,
   "metadata": {
    "collapsed": true
   },
   "outputs": [],
   "source": [
    "LoadFromFile = True"
   ]
  },
  {
   "cell_type": "markdown",
   "metadata": {},
   "source": [
    "If loading from file\n",
    "------\n",
    "\n",
    "Read 32\\*32 data stored as a numpy array from numpy formatted binary file. Also loads existing summary statistics data. These are converted into lists so that the main time loop below will append with new values.\n"
   ]
  },
  {
   "cell_type": "code",
   "execution_count": 7,
   "metadata": {
    "collapsed": false
   },
   "outputs": [],
   "source": [
    "if(LoadFromFile == True):\n",
    "# set up mesh for 32*32 data file\n",
    "    elementMesh32 = uw.mesh.FeMesh_Cartesian( elementType=(\"Q2/dPc1\"), \n",
    "                                         elementRes=(32,32), \n",
    "                                           minCoord=(0.,0.), \n",
    "                                           maxCoord=BoxSize  )\n",
    "    linearMesh32   = elementMesh32\n",
    "    constantMesh32 = elementMesh32.subMesh \n",
    "    temperatureField32 = uw.fevariable.FeVariable( feMesh=linearMesh32,   nodeDofCount=1 )\n",
    "    pressureField32    = uw.fevariable.FeVariable( feMesh=constantMesh32,   nodeDofCount=1 )\n",
    "    velocityField32    = uw.fevariable.FeVariable( feMesh=linearMesh32,   nodeDofCount=dim )\n",
    "\n",
    "    temperatureField32.load(inputPath+'Arrhenius_32_T.inp')\n",
    "    velocityField32.load(inputPath+'Arrhenius_32_v.inp')\n",
    "    pressureField32.load(inputPath+'Arrhenius_32_P.inp')\n",
    "    \n",
    "    if(res==32): # no remeshing needed, copy directly\n",
    "        temperatureField = temperatureField32\n",
    "        pressureField = pressureField32\n",
    "        velocityField = velocityField32\n",
    "    else: # remeshing needed\n",
    "        temperatureField.data[:] = temperatureField32.evaluate(linearMesh)\n",
    "        pressureField.data[:] = pressureField32.evaluate(constantMesh)\n",
    "        velocityField.data[:] = velocityField32.evaluate(linearMesh)\n",
    "    # load summary statistics into arrays\n",
    "    time_vals = []\n",
    "    vrms_vals = []\n",
    "    Nu_vals = []\n",
    "    data = np.loadtxt(inputPath+'ArrSumary.inp')\n",
    "    time_vals, vrms_vals, Nu_vals = data[0,:].tolist(), data[1,:].tolist(), data[2,:].tolist()"
   ]
  },
  {
   "cell_type": "markdown",
   "metadata": {},
   "source": [
    "If _not_ loading from file: Initialise data\n",
    "-----\n",
    "\n",
    "Start with a perturbed temperature gradient to speed up the convergence to the benchmark steady state solution."
   ]
  },
  {
   "cell_type": "code",
   "execution_count": 8,
   "metadata": {
    "collapsed": false
   },
   "outputs": [],
   "source": [
    "if(LoadFromFile == False):\n",
    "    velocityField.data[:] = [0.,0.]\n",
    "    pressureField.data[:] = 0.\n",
    "    temperatureField.data[:] = 0.\n",
    "    pertStrength = 0.10\n",
    "    for index, coord in enumerate(linearMesh.data):\n",
    "        pertCoeff = math.cos( math.pi * coord[0]/Box_Length ) * math.sin( math.pi * coord[1]/Box_Length )\n",
    "        pertCoeff = pertStrength * DeltaTemp * (1.0 + pertCoeff)\n",
    "        temperatureField.data[index] = Temp_Min + DeltaTemp*(Box_Height - coord[1]) + 0.1 * pertCoeff\n",
    "        temperatureField.data[index] = max(Temp_Min, min(Temp_Max, temperatureField.data[index]))\n",
    "# initialise summary statistics arrays\n",
    "    time_vals = []\n",
    "    vrms_vals = []\n",
    "    Nu_vals = []"
   ]
  },
  {
   "cell_type": "markdown",
   "metadata": {},
   "source": [
    "Plot initial conditions\n",
    "-------\n",
    "\n",
    "Automatically scale the size of the vector arrows for the velocity field maximum."
   ]
  },
  {
   "cell_type": "code",
   "execution_count": 9,
   "metadata": {
    "collapsed": false,
    "scrolled": false
   },
   "outputs": [
    {
     "data": {
      "image/png": "[encoded data removed]",
      "text/plain": [
       "<IPython.core.display.Image object>"
      ]
     },
     "execution_count": 9,
     "metadata": {},
     "output_type": "execute_result"
    }
   ],
   "source": [
    "velmax = np.amax(velocityField.data[:])\n",
    "if(velmax==0.0): velmax = 1.0\n",
    "figtemp = plt.Figure()\n",
    "tempminmax = fn.view.min_max(temperatureField)\n",
    "figtemp.Surface(tempminmax, elementMesh)\n",
    "figtemp.VectorArrows(velocityField, linearMesh, lengthScale=0.1/velmax, arrowHeadSize=0.2 )\n",
    "figtemp.show()"
   ]
  },
  {
   "cell_type": "markdown",
   "metadata": {},
   "source": [
    "Set Dirichlet boundary conditions\n",
    "------\n",
    "\n",
    "Use the Dirichlet condition function to flag the boundary vertices (set in IWalls and JWalls) that the system will consider as fixed boundary conditions."
   ]
  },
  {
   "cell_type": "code",
   "execution_count": 10,
   "metadata": {
    "collapsed": false
   },
   "outputs": [],
   "source": [
    "IWalls = linearMesh.specialSets[\"MinI_VertexSet\"] + linearMesh.specialSets[\"MaxI_VertexSet\"]\n",
    "JWalls = linearMesh.specialSets[\"MinJ_VertexSet\"] + linearMesh.specialSets[\"MaxJ_VertexSet\"]\n",
    "AllWalls = IWalls + JWalls\n",
    "\n",
    "freeslipBC = uw.conditions.DirichletCondition(     variable=velocityField, \n",
    "                                              nodeIndexSets=(AllWalls,JWalls) )\n",
    "tempBC = uw.conditions.DirichletCondition(     variable=temperatureField, \n",
    "                                              nodeIndexSets=(JWalls,) )"
   ]
  },
  {
   "cell_type": "markdown",
   "metadata": {},
   "source": [
    "Ensure temperature boundaries conditions are still what we want as the initial conditions above might have set slightly different values on the boundaries."
   ]
  },
  {
   "cell_type": "code",
   "execution_count": 11,
   "metadata": {
    "collapsed": false
   },
   "outputs": [],
   "source": [
    "for index in linearMesh.specialSets[\"MinJ_VertexSet\"]:\n",
    "    temperatureField.data[index] = Temp_Max\n",
    "for index in linearMesh.specialSets[\"MaxJ_VertexSet\"]:\n",
    "    temperatureField.data[index] = Temp_Min"
   ]
  },
  {
   "cell_type": "markdown",
   "metadata": {},
   "source": [
    "Set up simulation parameters and functions\n",
    "====\n",
    "\n",
    "Here the functions for density, viscosity etc. are set. These functions and/or values are preserved for the entire simulation time. \n",
    "\n",
    "Notes:\n",
    "1. temperature must be in the range 0-1 for use with the denisity function defined using the Rayleigh number\n",
    "2. viscosityFn must be a function of something for the Stokes system below.\n",
    "3. this can either be done by making it explicitly a function of an existing FEVariable; e.g. of temperatureField\n",
    "4. OR a function of a fn class object; e.g. of fn.math.exp(0.0), which equals 1\n",
    "5. OR defined viscosityFn as a FEvariable itself"
   ]
  },
  {
   "cell_type": "code",
   "execution_count": 12,
   "metadata": {
    "collapsed": false
   },
   "outputs": [],
   "source": [
    "# Rheology\n",
    "eta0 = 1.0e-6\n",
    "activationEnergy = 27.63102112\n",
    "Ra = 1.e6\n",
    "viscosityFn = eta0 * fn.math.exp( activationEnergy / (temperatureField+1.) )\n",
    "\n",
    "densityFn = Ra*temperatureField\n",
    "# define our vertical unit vector using a python tuple (this will be automatically converted to a function)\n",
    "z_hat = ( 0.0, 1.0 )\n",
    "# now create a buoyancy force vector using the density (FEvariable) and the vertical unit vector. \n",
    "# The result from which will also be a FEvariable.\n",
    "buoyancyFn = z_hat*densityFn\n"
   ]
  },
  {
   "cell_type": "markdown",
   "metadata": {},
   "source": [
    "Plot the viscosity\n",
    "-----"
   ]
  },
  {
   "cell_type": "code",
   "execution_count": 13,
   "metadata": {
    "collapsed": false
   },
   "outputs": [
    {
     "data": {
      "image/png": "[encoded data removed]",
      "text/plain": [
       "<IPython.core.display.Image object>"
      ]
     },
     "execution_count": 13,
     "metadata": {},
     "output_type": "execute_result"
    }
   ],
   "source": [
    "figEta = plt.Figure()\n",
    "figEta.Surface(viscosityFn, linearMesh)\n",
    "figEta.show()"
   ]
  },
  {
   "cell_type": "markdown",
   "metadata": {},
   "source": [
    "Solver settings\n",
    "=====\n",
    "\n",
    "Set up parameters for the Stokes system solver. For PIC style integration, we include a swarm for the a PIC integration swarm is generated within. For gauss integration, simple do not include the swarm. Nearest neighbour is used where required."
   ]
  },
  {
   "cell_type": "code",
   "execution_count": 14,
   "metadata": {
    "collapsed": false
   },
   "outputs": [],
   "source": [
    "stokesPIC = uw.systems.Stokes(velocityField=velocityField, \n",
    "                              pressureField=pressureField,\n",
    "                              conditions=[freeslipBC,],\n",
    "                              viscosityFn=fn.exception.SafeMaths(viscosityFn), \n",
    "                              bodyForceFn=buoyancyFn )\n",
    "\n",
    "solver=uw.systems.Solver(stokesPIC)\n",
    "\n",
    "solver.options.main.Q22_pc_type='uw'  # also try 'gtkg', 'gkgdiag' and 'uwscale'\n",
    "solver.options.main.penalty = 1.0\n",
    "solver.options.A11.ksp_rtol=1e-4\n",
    "solver.options.scr.ksp_rtol=1e-3\n",
    "solver.options.scr.use_previous_guess = True\n",
    "solver.options.scr.ksp_set_min_it_converge = 1\n",
    "solver.options.mg.levels = 5\n",
    "solver.options.mg.mg_levels_ksp_type = 'chebyshev'\n",
    "solver.options.mg_accel.mg_accelerating_smoothing = True\n",
    "solver.options.mg_accel.mg_accelerating_smoothing_view = False\n",
    "solver.options.mg_accel.mg_smooths_to_start = 1\n",
    "\n",
    "stokesPIC.solve = solver.solve\n",
    "\n"
   ]
  },
  {
   "cell_type": "markdown",
   "metadata": {},
   "source": [
    "We can check what settings and defaults are currently set"
   ]
  },
  {
   "cell_type": "code",
   "execution_count": 15,
   "metadata": {
    "collapsed": false
   },
   "outputs": [
    {
     "name": "stdout",
     "output_type": "stream",
     "text": [
      "## Solver Config\n",
      "('remove_constant_pressure_null_space', False)\n",
      "('ksp_k2_type', 'GMG')\n",
      "('change_backsolve', False)\n",
      "('penalty', 1.0)\n",
      "('pc_type', 'none')\n",
      "('force_correction', True)\n",
      "('k_scale_only', True)\n",
      "('Q22_pc_type', 'uw')\n",
      "('change_A11rhspresolve', False)\n",
      "('ksp_type', 'bsscr')\n",
      "('rescale_equations', False)\n",
      "('restore_K', True)\n",
      "None\n",
      "### A11 Config\n",
      "('ksp_type', 'fgmres')\n",
      "('ksp_rtol', 0.0001)\n",
      "None\n"
     ]
    }
   ],
   "source": [
    "print \"## Solver Config\"\n",
    "print solver.options.main.list()\n",
    "print \"### A11 Config\"\n",
    "print solver.options.A11.list()"
   ]
  },
  {
   "cell_type": "markdown",
   "metadata": {},
   "source": [
    "Create an advective-diffusive system\n",
    "=====\n",
    "\n",
    "Setup the system in underworld by flagging the temperature and velocity field variables."
   ]
  },
  {
   "cell_type": "code",
   "execution_count": 16,
   "metadata": {
    "collapsed": false
   },
   "outputs": [],
   "source": [
    "advDiff = uw.systems.AdvectionDiffusion( temperatureField, velocityField, diffusivity=1., conditions=[tempBC,] )"
   ]
  },
  {
   "cell_type": "markdown",
   "metadata": {},
   "source": [
    "Non-dimensional rms velocity\n",
    "----\n",
    "For comparison with the Blankenbach benchmark results the root mean squared velocity is used. This is defined by intergrating over the entire simulation domain via\n",
    "\\\\[\n",
    "\\begin{aligned}\n",
    "v_{rms} & = \\frac{h}{\\kappa} \\left[ \\frac{1}{hl} \\int_0^l \\int_0^h (u^2 + w^2) dz dx  \\right]^{1/2} \\\\\n",
    " & =  \\sqrt{ \\frac{ \\int_V (\\mathbf{v}.\\mathbf{v}) dV } {\\int_V dV} }\n",
    "\\end{aligned}\n",
    "\\\\]\n",
    "where $V$ denotes the entire 'volume' of the box, which is the x, z surface for a 2D simulation.\n",
    "\n",
    "This can be setup in underworld by defining the following functions as integrals of other functions. Here v2sum_integral is defined as the integral over the entire mesh of the function which is $\\mathbf{v}.\\mathbf{v}$. This is used in the main time loop to calculate statistics and compare to the benchmark results when the system is in steady-state."
   ]
  },
  {
   "cell_type": "code",
   "execution_count": 17,
   "metadata": {
    "collapsed": true
   },
   "outputs": [],
   "source": [
    "v2sum_integral  = uw.utils.Integral( feMesh=linearMesh, fn=fn.math.dot(velocityField, velocityField) ) \n",
    "volume_integral = uw.utils.Integral( feMesh=linearMesh, fn=1. )"
   ]
  },
  {
   "cell_type": "markdown",
   "metadata": {},
   "source": [
    "Setup up surface integrals for Nussel number calculation\n",
    "-----"
   ]
  },
  {
   "cell_type": "code",
   "execution_count": 18,
   "metadata": {
    "collapsed": false
   },
   "outputs": [],
   "source": [
    "#surface_Tgradient = uw.utils.Integral(temperatureField.gradientFn[1], linearMesh, integrationType=\"surface\", surfaceIndexSet=linearMesh.specialSets[\"MaxJ_VertexSet\"])\n",
    "#basalT            = uw.utils.Integral(temperatureField              , linearMesh, integrationType=\"surface\", surfaceIndexSet=linearMesh.specialSets[\"MinJ_VertexSet\"])"
   ]
  },
  {
   "cell_type": "markdown",
   "metadata": {},
   "source": [
    "Temporary Patch: Surface integrals currently disabled (22/09/2015)\n",
    "=======\n",
    "\n",
    "Use alternate method for calculating the Nusselt number"
   ]
  },
  {
   "cell_type": "code",
   "execution_count": 19,
   "metadata": {
    "collapsed": true
   },
   "outputs": [],
   "source": [
    "def FindNusseltNumber(temperatureField, linearMesh, xmax, zmax):\n",
    "    tempgradField = temperatureField.gradientFn\n",
    "    vertGradField = tempgradField[1]\n",
    "    BottomInt = 0.0\n",
    "    GradValues = temperatureField.gradientFn[1].evaluate(linearMesh.specialSets[\"MaxJ_VertexSet\"])\n",
    "    TopInt = sum(GradValues)\n",
    "    for index in linearMesh.specialSets[\"MinJ_VertexSet\"]:\n",
    "        BottomInt += temperatureField.data[index]\n",
    "    Nu = -zmax*TopInt/BottomInt\n",
    "    return Nu[0]"
   ]
  },
  {
   "cell_type": "markdown",
   "metadata": {},
   "source": [
    "Initialise time the step counts. Based on previous statistics output if required."
   ]
  },
  {
   "cell_type": "code",
   "execution_count": 20,
   "metadata": {
    "collapsed": false
   },
   "outputs": [
    {
     "name": "stdout",
     "output_type": "stream",
     "text": [
      "Begining at t =  0.0388546520796  after having completed  1000  steps\n"
     ]
    }
   ],
   "source": [
    "# Stepping. Initialise time and timestep.\n",
    "steps_prev = len(time_vals)\n",
    "steps = 0\n",
    "steps_end = 100\n",
    "step_out = 25\n",
    "\n",
    "# set time to zero, unless we are loading from file\n",
    "try:\n",
    "    time_start = time_vals[-1]\n",
    "except:\n",
    "    time_start = 0.0\n",
    "print 'Begining at t = ',time_start,' after having completed ',steps_prev,' steps'\n",
    "\n",
    "simtime = time_start\n"
   ]
  },
  {
   "cell_type": "code",
   "execution_count": 22,
   "metadata": {
    "collapsed": false
   },
   "outputs": [
    {
     "name": "stdout",
     "output_type": "stream",
     "text": [
      "steps = 0025; time = 3.955904e-02, vrms =  36.00, nusselt = 1.0500, CPU = 13.0s\n",
      "steps = 0050; time = 4.028867e-02, vrms =  36.27, nusselt = 1.0527, CPU = 26.6s\n",
      "steps = 0075; time = 4.101470e-02, vrms =  36.52, nusselt = 1.0555, CPU = 40.0s\n",
      "steps = 0100; time = 4.173750e-02, vrms =  36.77, nusselt = 1.0586, CPU = 53.3s\n",
      "steps = 0100; time = 4.173750e-02, vrms =  36.77, nusselt = 1.0586, CPU = 53.4s\n"
     ]
    }
   ],
   "source": [
    "# used for CPU timing\n",
    "start = time.clock()\n",
    "\n",
    "# Perform steps_end steps\n",
    "volume = volume_integral.integrate()\n",
    "rms_v, nu_no = 0.0, 0.0\n",
    "while steps<steps_end:\n",
    "    # Get solution for initial configuration\n",
    "    stokesPIC.solve()\n",
    "    # Retrieve the maximum possible timestep for the AD system.\n",
    "    dt = advDiff.get_max_dt()\n",
    "    if steps == 0:\n",
    "        dt = 0.\n",
    "    # Advect using this timestep siz    \n",
    "    advDiff.integrate(dt)\n",
    "    \n",
    "    # Calculate the RMS velocity\n",
    "    v2sum = v2sum_integral.integrate()\n",
    "    rms_v = math.sqrt(v2sum[0]/volume[0])\n",
    "    # comment out surface integral as they are disabled 22/09/2015\n",
    "    # nu_no = -surface_Tgradient.integrate()[0] / basalT.integrate()[0]\n",
    "    nu_no = FindNusseltNumber(temperatureField, linearMesh, Box_Length, Box_Height)\n",
    "    \n",
    "    # Increment time and store results\n",
    "    simtime += dt\n",
    "    steps += 1\n",
    "    vrms_vals.append( rms_v )\n",
    "    time_vals.append( simtime )\n",
    "    Nu_vals.append(nu_no)\n",
    "                   \n",
    "    if steps ==0 or steps % step_out == 0:\n",
    "        print \"steps = {:04d}; time = {:.6e}, vrms = {:6.2f}, nusselt = {:6.4f}, CPU = {:4.1f}s\".format(\n",
    "               steps, simtime, rms_v, nu_no, time.clock()-start)\n",
    "        \n",
    "v2sum = v2sum_integral.integrate()\n",
    "rms_v = math.sqrt(v2sum[0]/volume[0])\n",
    "# nu_no = -surface_Tgradient.integrate()[0] / basalT.integrate()[0]\n",
    "nu_no = FindNusseltNumber(temperatureField, linearMesh, Box_Length, Box_Height)\n",
    "\n",
    "print \"steps = {:04d}; time = {:.6e}, vrms = {:6.2f}, nusselt = {:6.4f}, CPU = {:4.1f}s\".format(\n",
    "               steps, simtime, rms_v, nu_no, time.clock()-start)\n"
   ]
  },
  {
   "cell_type": "markdown",
   "metadata": {},
   "source": [
    "Output timing for calculation per simulation time step"
   ]
  },
  {
   "cell_type": "code",
   "execution_count": 24,
   "metadata": {
    "collapsed": false
   },
   "outputs": [
    {
     "name": "stdout",
     "output_type": "stream",
     "text": [
      "Average time per timestep =  0.53457661  seconds over  100  steps\n"
     ]
    }
   ],
   "source": [
    "if(steps!=steps_prev):\n",
    "    avtime = (time.clock() - start)/float(steps)\n",
    "else:\n",
    "    avtime = 0.0\n",
    "\n",
    "print \"Average time per timestep = \",avtime,\" seconds over \", steps, \" steps\""
   ]
  },
  {
   "cell_type": "markdown",
   "metadata": {},
   "source": [
    "Pre-run model took about $1.74$ seconds per timestep and was run for $13000$ timesteps for $Ra = 10^6$ for a $64\\times64$ grid."
   ]
  },
  {
   "cell_type": "markdown",
   "metadata": {},
   "source": [
    "Save data to files\n",
    "-----------"
   ]
  },
  {
   "cell_type": "markdown",
   "metadata": {},
   "source": [
    "Save system summary data; $v_{rms}$ and the Nusselt number against time."
   ]
  },
  {
   "cell_type": "code",
   "execution_count": 25,
   "metadata": {
    "collapsed": false
   },
   "outputs": [],
   "source": [
    "np.savetxt(outputPath+'ArrSumary.out', (time_vals, vrms_vals, Nu_vals), fmt=\"%s\")"
   ]
  },
  {
   "cell_type": "markdown",
   "metadata": {},
   "source": [
    "Save final temperature, velocity and pressure fields."
   ]
  },
  {
   "cell_type": "code",
   "execution_count": 26,
   "metadata": {
    "collapsed": false
   },
   "outputs": [],
   "source": [
    "temperatureField.save(outputPath+'Arrhenius_T.out')\n",
    "velocityField.save(outputPath+'Arrhenius_v.out')\n",
    "pressureField.save(outputPath+'Arrhenius_P.out')"
   ]
  },
  {
   "cell_type": "markdown",
   "metadata": {},
   "source": [
    "Plot temperature field with velocity vectors overlaid\n",
    "------------"
   ]
  },
  {
   "cell_type": "code",
   "execution_count": 27,
   "metadata": {
    "collapsed": false,
    "scrolled": true
   },
   "outputs": [
    {
     "data": {
      "image/png": "[encoded data removed]",
      "text/plain": [
       "<IPython.core.display.Image object>"
      ]
     },
     "execution_count": 27,
     "metadata": {},
     "output_type": "execute_result"
    }
   ],
   "source": [
    "velmax = np.amax(velocityField.data[:])\n",
    "figVT = plt.Figure()\n",
    "figVT.Surface(temperatureField, linearMesh)\n",
    "figVT.VectorArrows(velocityField, linearMesh, lengthScale=0.1/velmax, arrowHeadSize=0.2 )\n",
    "figVT.show()"
   ]
  },
  {
   "cell_type": "markdown",
   "metadata": {},
   "source": [
    "Temperature range\n",
    "-----\n",
    "\n",
    "Note that the temperature variable has a dynamic range of temperature, which means that it can have values outside the original temperature range (including negative values). Large deviations from the original range are typically due to numerical overshoot due to a low resolution of the system."
   ]
  },
  {
   "cell_type": "markdown",
   "metadata": {},
   "source": [
    "Plot system summary information\n",
    "-----"
   ]
  },
  {
   "cell_type": "code",
   "execution_count": 28,
   "metadata": {
    "collapsed": false
   },
   "outputs": [
    {
     "name": "stdout",
     "output_type": "stream",
     "text": [
      "Populating the interactive namespace from numpy and matplotlib\n"
     ]
    },
    {
     "name": "stderr",
     "output_type": "stream",
     "text": [
      "WARNING: pylab import has clobbered these variables: ['plt']\n",
      "`%matplotlib` prevents importing * from pylab and numpy\n"
     ]
    },
    {
     "data": {
      "image/png": "[encoded data removed]",
      "text/plain": [
       "<matplotlib.figure.Figure at 0x7f62116f85d0>"
      ]
     },
     "metadata": {},
     "output_type": "display_data"
    }
   ],
   "source": [
    "%pylab inline\n",
    "pyplot.figure(1)\n",
    "pyplot.subplot(211)\n",
    "pyplot.plot(time_vals,Nu_vals)\n",
    "pyplot.ylabel('Nusselt Number')\n",
    "\n",
    "pyplot.subplot(212)\n",
    "pyplot.plot(time_vals,vrms_vals)\n",
    "pyplot.xlabel('Time')\n",
    "pyplot.ylabel('Vrms')\n",
    "pyplot.show()\n"
   ]
  },
  {
   "cell_type": "code",
   "execution_count": null,
   "metadata": {
    "collapsed": true
   },
   "outputs": [],
   "source": []
  }
 ],
 "metadata": {
  "kernelspec": {
   "display_name": "Python 2",
   "language": "python",
   "name": "python2"
  },
  "language_info": {
   "codemirror_mode": {
    "name": "ipython",
    "version": 2
   },
   "file_extension": ".py",
   "mimetype": "text/x-python",
   "name": "python",
   "nbconvert_exporter": "python",
   "pygments_lexer": "ipython2",
   "version": "2.7.6"
  }
 },
 "nbformat": 4,
 "nbformat_minor": 0
}
